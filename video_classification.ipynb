{
  "nbformat": 4,
  "nbformat_minor": 0,
  "metadata": {
    "colab": {
      "name": "video_classification.ipynb",
      "version": "0.3.2",
      "provenance": [],
      "collapsed_sections": [],
      "include_colab_link": true
    },
    "kernelspec": {
      "name": "python3",
      "display_name": "Python 3"
    },
    "accelerator": "GPU"
  },
  "cells": [
    {
      "cell_type": "markdown",
      "metadata": {
        "id": "view-in-github",
        "colab_type": "text"
      },
      "source": [
        "<a href=\"https://colab.research.google.com/github/crazylazylife/Crowd-Behaviour-Analysis/blob/master/video_classification.ipynb\" target=\"_parent\"><img src=\"https://colab.research.google.com/assets/colab-badge.svg\" alt=\"Open In Colab\"/></a>"
      ]
    },
    {
      "metadata": {
        "id": "nR93FnMwW-4N",
        "colab_type": "code",
        "outputId": "ff9ca591-ad84-4940-febc-9fe9e45939ec",
        "colab": {
          "base_uri": "https://localhost:8080/",
          "height": 34
        }
      },
      "cell_type": "code",
      "source": [
        "from google.colab import drive\n",
        "drive.mount('./content')"
      ],
      "execution_count": 0,
      "outputs": [
        {
          "output_type": "stream",
          "text": [
            "Drive already mounted at ./content; to attempt to forcibly remount, call drive.mount(\"./content\", force_remount=True).\n"
          ],
          "name": "stdout"
        }
      ]
    },
    {
      "metadata": {
        "id": "h5oORXLK8EeF",
        "colab_type": "code",
        "outputId": "c074a522-feac-4ad7-c49a-b157bb498449",
        "colab": {
          "base_uri": "https://localhost:8080/",
          "height": 85
        }
      },
      "cell_type": "code",
      "source": [
        "%cd content/My Drive/crowd_behaviour_analysis\n",
        "! ls"
      ],
      "execution_count": 0,
      "outputs": [
        {
          "output_type": "stream",
          "text": [
            "/content/content/My Drive/crowd_behaviour_analysis\n",
            "c3d_model.py  frame_extract.py\t __pycache__\t     test.list\n",
            "dataset       input_data.py\t result\t\t     train_c3d.py\n",
            "eval_c3d.py   process_gettxt.sh  t3d_implementation  train.list\n"
          ],
          "name": "stdout"
        }
      ]
    },
    {
      "metadata": {
        "id": "P_LbKz9FeQfr",
        "colab_type": "code",
        "outputId": "c884832e-8dc9-4f7d-9b30-50cc3089bf58",
        "colab": {
          "base_uri": "https://localhost:8080/",
          "height": 1329
        }
      },
      "cell_type": "code",
      "source": [
        "!python train_c3d.py"
      ],
      "execution_count": 0,
      "outputs": [
        {
          "output_type": "stream",
          "text": [
            "WARNING:tensorflow:From /usr/local/lib/python3.6/dist-packages/tensorflow/python/framework/op_def_library.py:263: colocate_with (from tensorflow.python.framework.ops) is deprecated and will be removed in a future version.\n",
            "Instructions for updating:\n",
            "Colocations handled automatically by placer.\n",
            "\n",
            "WARNING: The TensorFlow contrib module will not be included in TensorFlow 2.0.\n",
            "For more information, please see:\n",
            "  * https://github.com/tensorflow/community/blob/master/rfcs/20180907-contrib-sunset.md\n",
            "  * https://github.com/tensorflow/addons\n",
            "If you depend on functionality not listed there, please file an issue.\n",
            "\n",
            "WARNING:tensorflow:From /content/content/My Drive/crowd_behaviour_analysis/c3d_model.py:194: calling dropout (from tensorflow.python.ops.nn_ops) with keep_prob is deprecated and will be removed in a future version.\n",
            "Instructions for updating:\n",
            "Please use `rate` instead of `keep_prob`. Rate should be set to `rate = 1 - keep_prob`.\n",
            "2019-04-21 19:08:32.532315: I tensorflow/core/platform/profile_utils/cpu_utils.cc:94] CPU Frequency: 2300000000 Hz\n",
            "2019-04-21 19:08:32.532632: I tensorflow/compiler/xla/service/service.cc:150] XLA service 0x2e9e520 executing computations on platform Host. Devices:\n",
            "2019-04-21 19:08:32.532692: I tensorflow/compiler/xla/service/service.cc:158]   StreamExecutor device (0): <undefined>, <undefined>\n",
            "2019-04-21 19:08:32.739160: I tensorflow/stream_executor/cuda/cuda_gpu_executor.cc:998] successful NUMA node read from SysFS had negative value (-1), but there must be at least one NUMA node, so returning NUMA node zero\n",
            "2019-04-21 19:08:32.739708: I tensorflow/compiler/xla/service/service.cc:150] XLA service 0x2e9de40 executing computations on platform CUDA. Devices:\n",
            "2019-04-21 19:08:32.739736: I tensorflow/compiler/xla/service/service.cc:158]   StreamExecutor device (0): Tesla T4, Compute Capability 7.5\n",
            "2019-04-21 19:08:32.740111: I tensorflow/core/common_runtime/gpu/gpu_device.cc:1433] Found device 0 with properties: \n",
            "name: Tesla T4 major: 7 minor: 5 memoryClockRate(GHz): 1.59\n",
            "pciBusID: 0000:00:04.0\n",
            "totalMemory: 14.73GiB freeMemory: 14.60GiB\n",
            "2019-04-21 19:08:32.740131: I tensorflow/core/common_runtime/gpu/gpu_device.cc:1512] Adding visible gpu devices: 0\n",
            "2019-04-21 19:08:33.255320: I tensorflow/core/common_runtime/gpu/gpu_device.cc:984] Device interconnect StreamExecutor with strength 1 edge matrix:\n",
            "2019-04-21 19:08:33.255408: I tensorflow/core/common_runtime/gpu/gpu_device.cc:990]      0 \n",
            "2019-04-21 19:08:33.255421: I tensorflow/core/common_runtime/gpu/gpu_device.cc:1003] 0:   N \n",
            "2019-04-21 19:08:33.255794: W tensorflow/core/common_runtime/gpu/gpu_bfc_allocator.cc:42] Overriding allow_growth setting because the TF_FORCE_GPU_ALLOW_GROWTH environment variable is set. Original config value was 0.\n",
            "2019-04-21 19:08:33.255863: I tensorflow/core/common_runtime/gpu/gpu_device.cc:1115] Created TensorFlow device (/job:localhost/replica:0/task:0/device:GPU:0 with 14115 MB memory) -> physical GPU (device: 0, name: Tesla T4, pci bus id: 0000:00:04.0, compute capability: 7.5)\n",
            "Restore the model from checkpoint\n",
            "WARNING:tensorflow:From /usr/local/lib/python3.6/dist-packages/tensorflow/python/training/saver.py:1266: checkpoint_exists (from tensorflow.python.training.checkpoint_management) is deprecated and will be removed in a future version.\n",
            "Instructions for updating:\n",
            "Use standard file APIs to check for files with this prefix.\n",
            "Enter the batch_start index: 160\n",
            "Loading the training dataset...\n",
            "Dirname and tmp_label:  dataset/frames/violence/Tigers_Yob_Violence_Hull_Daily_Mail ,  1\n",
            "Dirname and tmp_label:  dataset/frames/non-violence/2008_Penn_State_Football_Crowd_Pump_Up_Video ,  0\n",
            "Dirname and tmp_label:  dataset/frames/violence/Violence_At_Upton_Park_25_08_09 ,  1\n",
            "Dirname and tmp_label:  dataset/frames/violence/Violence_after_bball_game ,  1\n",
            "Dirname and tmp_label:  dataset/frames/violence/Torcida_do_Flamengo_x_PM_na_Final_da_Copa_do_Brasil ,  1\n",
            "Dirname and tmp_label:  dataset/frames/violence/Vanilla_Muffins_Chelsea_West_Ham_A_Look_At_Football_Violence ,  1\n",
            "Dirname and tmp_label:  dataset/frames/violence/Violence_in_Soccer_Stadiums_The_Hooligan_Syndrome ,  1\n",
            "Dirname and tmp_label:  dataset/frames/violence/World_football_compilation_ultras_players_hooligans_emotions ,  1\n",
            "Dirname and tmp_label:  dataset/frames/non-violence/rowdy_crowd_at_Football_game ,  0\n",
            "Dirname and tmp_label:  dataset/frames/violence/Crowd_Violence_Control_techniques ,  1\n",
            "Dirname and tmp_label:  dataset/frames/non-violence/HARRY_KEWELL_SCORES_CROWD_GO_NUTS ,  0\n",
            "Dirname and tmp_label:  dataset/frames/violence/project_d_football_violence ,  1\n",
            "Dirname and tmp_label:  dataset/frames/non-violence/Varsity_Football_Conestoga_at_Ridley ,  0\n",
            "Dirname and tmp_label:  dataset/frames/non-violence/Anglia_News_Sport_Soccer_Football_FIFA_South_Africa_World_Cup_2010_England_vs_Slovenia ,  0\n",
            "Dirname and tmp_label:  dataset/frames/non-violence/Barnsley_FC_V_Swansea_City_FC_League_1_Play_off_Final_2006 ,  0\n",
            "Dirname and tmp_label:  dataset/frames/non-violence/Fulltime_at_Scottish_Cup_Final_Hampden_2010 ,  0\n",
            "Dirname and tmp_label:  dataset/frames/non-violence/Jaguars_vs_Broncos_in_HD ,  0\n",
            "Dirname and tmp_label:  dataset/frames/non-violence/Cheering_the_Nod ,  0\n",
            "Dirname and tmp_label:  dataset/frames/violence/Vanilla_Muffins_Chelsea_West_Ham_A_Look_At_Football_Violence ,  1\n",
            "Dirname and tmp_label:  dataset/frames/violence/Football_Hooligans_Russia_v_England_News_Report ,  1\n",
            "Dirname and tmp_label:  dataset/frames/non-violence/Stadium_Footage ,  0\n",
            "Dirname and tmp_label:  dataset/frames/violence/Football_Hooligans_Carlisle_v_Preston_1993 ,  1\n",
            "Dirname and tmp_label:  dataset/frames/violence/Footballs_Blood_Sport_prt2 ,  1\n",
            "Dirname and tmp_label:  dataset/frames/violence/A_Town_Called_Football_by_Nil_Satis ,  1\n",
            "2019-04-21 19:09:43.089881: I tensorflow/stream_executor/dso_loader.cc:152] successfully opened CUDA library libcublas.so.10.0 locally\n",
            "(Train) 2019-04-21 19:09:51.722054: step 5000, loss = 1.57, acc = 0.94 (1.9 examples/sec; 8.393 sec/batch)\n",
            "Testing Data Eval:\n",
            "(Test) 2019-04-21 19:09:52.069232: step 5000, loss = 6.92, acc = 0.44 (23.8 examples/sec; 8.393 sec/batch)\n",
            "(Train) 2019-04-21 19:12:12.004030: step 5100, loss = 1.24, acc = 1.00 (14.0 examples/sec; 1.146 sec/batch)\n",
            "Testing Data Eval:\n",
            "(Test) 2019-04-21 19:12:12.381550: step 5100, loss = 5.43, acc = 0.50 (174.5 examples/sec; 1.146 sec/batch)\n",
            "(Train) 2019-04-21 19:14:24.954871: step 5200, loss = 1.21, acc = 1.00 (14.3 examples/sec; 1.122 sec/batch)\n",
            "Testing Data Eval:\n",
            "(Test) 2019-04-21 19:14:25.336238: step 5200, loss = 5.71, acc = 0.44 (178.3 examples/sec; 1.122 sec/batch)\n",
            "(Train) 2019-04-21 19:16:37.816468: step 5300, loss = 1.22, acc = 1.00 (14.8 examples/sec; 1.081 sec/batch)\n",
            "Testing Data Eval:\n",
            "(Test) 2019-04-21 19:16:38.198133: step 5300, loss = 5.72, acc = 0.50 (185.0 examples/sec; 1.081 sec/batch)\n",
            "(Train) 2019-04-21 19:18:50.887965: step 5400, loss = 1.21, acc = 1.00 (13.8 examples/sec; 1.157 sec/batch)\n",
            "Testing Data Eval:\n",
            "(Test) 2019-04-21 19:18:51.293093: step 5400, loss = 5.85, acc = 0.44 (172.9 examples/sec; 1.157 sec/batch)\n",
            "Done\n"
          ],
          "name": "stdout"
        }
      ]
    },
    {
      "metadata": {
        "id": "I5jlKwsL0cr4",
        "colab_type": "code",
        "outputId": "bde8b604-509b-4318-80d0-6baac040e056",
        "colab": {
          "base_uri": "https://localhost:8080/",
          "height": 122
        }
      },
      "cell_type": "code",
      "source": [
        "#Checking GPU memory and utilization\n",
        "# memory footprint support libraries/code\n",
        "!ln -sf /opt/bin/nvidia-smi /usr/bin/nvidia-smi\n",
        "!pip install gputil\n",
        "!pip install psutil\n",
        "!pip install humanize\n",
        "import psutil\n",
        "import humanize\n",
        "import os\n",
        "import GPUtil as GPU\n",
        "GPUs = GPU.getGPUs()\n",
        "# XXX: only one GPU on Colab and isn’t guaranteed\n",
        "gpu = GPUs[0]\n",
        "def printm():\n",
        " process = psutil.Process(os.getpid())\n",
        " print(\"Gen RAM Free: \" + humanize.naturalsize( psutil.virtual_memory().available ), \" | Proc size: \" + humanize.naturalsize( process.memory_info().rss))\n",
        " print(\"GPU RAM Free: {0:.0f}MB | Used: {1:.0f}MB | Util {2:3.0f}% | Total {3:.0f}MB\".format(gpu.memoryFree, gpu.memoryUsed, gpu.memoryUtil*100, gpu.memoryTotal))\n",
        "printm() "
      ],
      "execution_count": 0,
      "outputs": [
        {
          "output_type": "stream",
          "text": [
            "Requirement already satisfied: gputil in /usr/local/lib/python3.6/dist-packages (1.4.0)\n",
            "Requirement already satisfied: psutil in /usr/local/lib/python3.6/dist-packages (5.4.8)\n",
            "Requirement already satisfied: humanize in /usr/local/lib/python3.6/dist-packages (0.5.1)\n",
            "Gen RAM Free: 12.9 GB  | Proc size: 118.4 MB\n",
            "GPU RAM Free: 15079MB | Used: 0MB | Util   0% | Total 15079MB\n"
          ],
          "name": "stdout"
        }
      ]
    },
    {
      "metadata": {
        "id": "r3BTjQ6W-KMQ",
        "colab_type": "code",
        "outputId": "35c866df-d03f-456d-9b13-354ebfca5558",
        "colab": {
          "base_uri": "https://localhost:8080/",
          "height": 1669
        }
      },
      "cell_type": "code",
      "source": [
        "!python eval_c3d.py"
      ],
      "execution_count": 0,
      "outputs": [
        {
          "output_type": "stream",
          "text": [
            "\n",
            "WARNING: The TensorFlow contrib module will not be included in TensorFlow 2.0.\n",
            "For more information, please see:\n",
            "  * https://github.com/tensorflow/community/blob/master/rfcs/20180907-contrib-sunset.md\n",
            "  * https://github.com/tensorflow/addons\n",
            "If you depend on functionality not listed there, please file an issue.\n",
            "\n",
            "WARNING:tensorflow:From /usr/local/lib/python3.6/dist-packages/tensorflow/python/framework/op_def_library.py:263: colocate_with (from tensorflow.python.framework.ops) is deprecated and will be removed in a future version.\n",
            "Instructions for updating:\n",
            "Colocations handled automatically by placer.\n",
            "WARNING:tensorflow:From /content/content/My Drive/crowd_behaviour_analysis/c3d_model.py:194: calling dropout (from tensorflow.python.ops.nn_ops) with keep_prob is deprecated and will be removed in a future version.\n",
            "Instructions for updating:\n",
            "Please use `rate` instead of `keep_prob`. Rate should be set to `rate = 1 - keep_prob`.\n",
            "2019-04-21 20:17:05.140902: I tensorflow/core/platform/profile_utils/cpu_utils.cc:94] CPU Frequency: 2300000000 Hz\n",
            "2019-04-21 20:17:05.141150: I tensorflow/compiler/xla/service/service.cc:150] XLA service 0x280a520 executing computations on platform Host. Devices:\n",
            "2019-04-21 20:17:05.141201: I tensorflow/compiler/xla/service/service.cc:158]   StreamExecutor device (0): <undefined>, <undefined>\n",
            "2019-04-21 20:17:05.335479: I tensorflow/stream_executor/cuda/cuda_gpu_executor.cc:998] successful NUMA node read from SysFS had negative value (-1), but there must be at least one NUMA node, so returning NUMA node zero\n",
            "2019-04-21 20:17:05.336003: I tensorflow/compiler/xla/service/service.cc:150] XLA service 0x2809b80 executing computations on platform CUDA. Devices:\n",
            "2019-04-21 20:17:05.336032: I tensorflow/compiler/xla/service/service.cc:158]   StreamExecutor device (0): Tesla T4, Compute Capability 7.5\n",
            "2019-04-21 20:17:05.336417: I tensorflow/core/common_runtime/gpu/gpu_device.cc:1433] Found device 0 with properties: \n",
            "name: Tesla T4 major: 7 minor: 5 memoryClockRate(GHz): 1.59\n",
            "pciBusID: 0000:00:04.0\n",
            "totalMemory: 14.73GiB freeMemory: 14.60GiB\n",
            "2019-04-21 20:17:05.336447: I tensorflow/core/common_runtime/gpu/gpu_device.cc:1512] Adding visible gpu devices: 0\n",
            "2019-04-21 20:17:05.845118: I tensorflow/core/common_runtime/gpu/gpu_device.cc:984] Device interconnect StreamExecutor with strength 1 edge matrix:\n",
            "2019-04-21 20:17:05.845199: I tensorflow/core/common_runtime/gpu/gpu_device.cc:990]      0 \n",
            "2019-04-21 20:17:05.845213: I tensorflow/core/common_runtime/gpu/gpu_device.cc:1003] 0:   N \n",
            "2019-04-21 20:17:05.845485: W tensorflow/core/common_runtime/gpu/gpu_bfc_allocator.cc:42] Overriding allow_growth setting because the TF_FORCE_GPU_ALLOW_GROWTH environment variable is set. Original config value was 0.\n",
            "2019-04-21 20:17:05.845538: I tensorflow/core/common_runtime/gpu/gpu_device.cc:1115] Created TensorFlow device (/job:localhost/replica:0/task:0/device:GPU:0 with 14115 MB memory) -> physical GPU (device: 0, name: Tesla T4, pci bus id: 0000:00:04.0, compute capability: 7.5)\n",
            "WARNING:tensorflow:From /usr/local/lib/python3.6/dist-packages/tensorflow/python/training/saver.py:1266: checkpoint_exists (from tensorflow.python.training.checkpoint_management) is deprecated and will be removed in a future version.\n",
            "Instructions for updating:\n",
            "Use standard file APIs to check for files with this prefix.\n",
            "Dirname and tmp_label:  dataset/frames/non-violence/Varsity_Football_Conestoga_at_Ridley ,  0\n",
            "Dirname and tmp_label:  dataset/frames/non-violence/New_Mexico_Men_s_Soccer_Crowd_Atmosphere ,  0\n",
            "Dirname and tmp_label:  dataset/frames/non-violence/LIVE_SQUAD_Morgan_State_University_Band_Pep_Club ,  0\n",
            "Dirname and tmp_label:  dataset/frames/violence/Fans_Fighting_Roma_vs_Man_Utd ,  1\n",
            "Dirname and tmp_label:  dataset/frames/non-violence/MASSIVE_mexican_Wave_at_state_of_origin_game_2_2010 ,  0\n",
            "Dirname and tmp_label:  dataset/frames/violence/Football_Hooligans_Manchester_City_v_Manchester_United_1989 ,  1\n",
            "Dirname and tmp_label:  dataset/frames/non-violence/rowdy_crowd_at_Football_game ,  0\n",
            "Dirname and tmp_label:  dataset/frames/non-violence/Stadium_Footage ,  0\n",
            "Dirname and tmp_label:  dataset/frames/non-violence/Cheering_the_Nod ,  0\n",
            "Dirname and tmp_label:  dataset/frames/non-violence/2008_Penn_State_Football_Crowd_Pump_Up_Video ,  0\n",
            "Dirname and tmp_label:  dataset/frames/violence/Football_Hooligans_Russia_v_England_News_Report ,  1\n",
            "Dirname and tmp_label:  dataset/frames/violence/project_d_football_violence ,  1\n",
            "Dirname and tmp_label:  dataset/frames/non-violence/Egypt_2_0_Algeria_World_Cup_2010 ,  0\n",
            "Dirname and tmp_label:  dataset/frames/violence/BRANNIK_Football_Violence_CSKA ,  1\n",
            "Dirname and tmp_label:  dataset/frames/violence/Footballs_Blood_Sport_prt2 ,  1\n",
            "Dirname and tmp_label:  dataset/frames/violence/Crowd_Violence_Control_techniques ,  1\n",
            "Dirname and tmp_label:  dataset/frames/non-violence/Anglia_News_Sport_Soccer_Football_FIFA_South_Africa_World_Cup_2010_England_vs_Slovenia ,  0\n",
            "Dirname and tmp_label:  dataset/frames/non-violence/Barnsley_FC_V_Swansea_City_FC_League_1_Play_off_Final_2006 ,  0\n",
            "Dirname and tmp_label:  dataset/frames/non-violence/The_Wave_at_The_Big_Game ,  0\n",
            "Dirname and tmp_label:  dataset/frames/non-violence/Jaguars_vs_Broncos_in_HD ,  0\n",
            "Dirname and tmp_label:  dataset/frames/non-violence/Fulltime_at_Scottish_Cup_Final_Hampden_2010 ,  0\n",
            "Dirname and tmp_label:  dataset/frames/violence/Slovak_chauvinism_nationalism_extremism_intolerance_and_all_forms_of_violence_against_Hungarians ,  1\n",
            "Dirname and tmp_label:  dataset/frames/non-violence/Brisbane_Lions_vs_Melbourne_Demons_The_Gabba ,  0\n",
            "Dirname and tmp_label:  dataset/frames/violence/Hooligans_no_talk_just_fights_docu_part_04 ,  1\n",
            "Dirname and tmp_label:  dataset/frames/violence/Football_Hooligans_Carlisle_v_Preston_1993 ,  1\n",
            "Dirname and tmp_label:  dataset/frames/violence/Vanilla_Muffins_Chelsea_West_Ham_A_Look_At_Football_Violence ,  1\n",
            "Dirname and tmp_label:  dataset/frames/non-violence/HARRY_KEWELL_SCORES_CROWD_GO_NUTS ,  0\n",
            "Dirname and tmp_label:  dataset/frames/violence/A_Town_Called_Football_by_Nil_Satis ,  1\n",
            "Dirname and tmp_label:  dataset/frames/violence/IRAKLIS_FANS_OUTLAW ,  1\n",
            "Dirname and tmp_label:  dataset/frames/violence/Football_Soccer_Hooligans_Movie_Scenes ,  1\n",
            "Dirname and tmp_label:  dataset/frames/violence/Vanilla_Muffins_Chelsea_West_Ham_A_Look_At_Football_Violence ,  1\n",
            "2019-04-21 20:17:25.052959: I tensorflow/stream_executor/dso_loader.cc:152] successfully opened CUDA library libcublas.so.10.0 locally\n",
            "Dirname and tmp_label:  dataset/frames/non-violence/LIVE_SQUAD_Morgan_State_University_Band_Pep_Club ,  0\n",
            "Dirname and tmp_label:  dataset/frames/non-violence/HARRY_KEWELL_SCORES_CROWD_GO_NUTS ,  0\n",
            "Dirname and tmp_label:  dataset/frames/non-violence/Stadium_Footage ,  0\n",
            "Dirname and tmp_label:  dataset/frames/violence/Fans_Fighting_Roma_vs_Man_Utd ,  1\n",
            "Dirname and tmp_label:  dataset/frames/non-violence/Fulltime_at_Scottish_Cup_Final_Hampden_2010 ,  0\n",
            "Dirname and tmp_label:  dataset/frames/violence/project_d_football_violence ,  1\n",
            "Dirname and tmp_label:  dataset/frames/violence/Football_Hooligans_Carlisle_v_Preston_1993 ,  1\n",
            "Dirname and tmp_label:  dataset/frames/violence/Vanilla_Muffins_Chelsea_West_Ham_A_Look_At_Football_Violence ,  1\n",
            "Dirname and tmp_label:  dataset/frames/non-violence/rowdy_crowd_at_Football_game ,  0\n",
            "Dirname and tmp_label:  dataset/frames/non-violence/Varsity_Football_Conestoga_at_Ridley ,  0\n",
            "Dirname and tmp_label:  dataset/frames/non-violence/MASSIVE_mexican_Wave_at_state_of_origin_game_2_2010 ,  0\n",
            "Dirname and tmp_label:  dataset/frames/non-violence/New_Mexico_Men_s_Soccer_Crowd_Atmosphere ,  0\n",
            "Dirname and tmp_label:  dataset/frames/non-violence/Anglia_News_Sport_Soccer_Football_FIFA_South_Africa_World_Cup_2010_England_vs_Slovenia ,  0\n",
            "Dirname and tmp_label:  dataset/frames/violence/IRAKLIS_FANS_OUTLAW ,  1\n",
            "Dirname and tmp_label:  dataset/frames/violence/Football_Hooligans_Manchester_City_v_Manchester_United_1989 ,  1\n",
            "Dirname and tmp_label:  dataset/frames/violence/Slovak_chauvinism_nationalism_extremism_intolerance_and_all_forms_of_violence_against_Hungarians ,  1\n",
            "Dirname and tmp_label:  dataset/frames/violence/Football_Soccer_Hooligans_Movie_Scenes ,  1\n",
            "Dirname and tmp_label:  dataset/frames/non-violence/Brisbane_Lions_vs_Melbourne_Demons_The_Gabba ,  0\n",
            "Dirname and tmp_label:  dataset/frames/violence/Crowd_Violence_Control_techniques ,  1\n",
            "Dirname and tmp_label:  dataset/frames/violence/Hooligans_no_talk_just_fights_docu_part_04 ,  1\n",
            "Dirname and tmp_label:  dataset/frames/violence/BRANNIK_Football_Violence_CSKA ,  1\n",
            "Dirname and tmp_label:  dataset/frames/non-violence/The_Wave_at_The_Big_Game ,  0\n",
            "Dirname and tmp_label:  dataset/frames/violence/A_Town_Called_Football_by_Nil_Satis ,  1\n",
            "Dirname and tmp_label:  dataset/frames/non-violence/Barnsley_FC_V_Swansea_City_FC_League_1_Play_off_Final_2006 ,  0\n",
            "Dirname and tmp_label:  dataset/frames/non-violence/Jaguars_vs_Broncos_in_HD ,  0\n",
            "Dirname and tmp_label:  dataset/frames/non-violence/2008_Penn_State_Football_Crowd_Pump_Up_Video ,  0\n",
            "Dirname and tmp_label:  dataset/frames/non-violence/Cheering_the_Nod ,  0\n",
            "Dirname and tmp_label:  dataset/frames/violence/Vanilla_Muffins_Chelsea_West_Ham_A_Look_At_Football_Violence ,  1\n",
            "Dirname and tmp_label:  dataset/frames/non-violence/Egypt_2_0_Algeria_World_Cup_2010 ,  0\n",
            "Dirname and tmp_label:  dataset/frames/violence/Footballs_Blood_Sport_prt2 ,  1\n",
            "Dirname and tmp_label:  dataset/frames/violence/Football_Hooligans_Russia_v_England_News_Report ,  1\n",
            "2019-04-21 20:17:48.895745: precision @ 1 = 0.667\n"
          ],
          "name": "stdout"
        }
      ]
    },
    {
      "metadata": {
        "id": "eKWCFutmR55D",
        "colab_type": "code",
        "colab": {}
      },
      "cell_type": "code",
      "source": [
        ""
      ],
      "execution_count": 0,
      "outputs": []
    }
  ]
}